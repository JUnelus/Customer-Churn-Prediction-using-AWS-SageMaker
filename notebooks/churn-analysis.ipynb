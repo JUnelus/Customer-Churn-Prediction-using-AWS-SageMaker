{
 "cells": [
  {
   "cell_type": "code",
   "id": "initial_id",
   "metadata": {
    "collapsed": true,
    "ExecuteTime": {
     "end_time": "2024-10-15T02:03:19.170643Z",
     "start_time": "2024-10-15T02:03:19.076661Z"
    }
   },
   "source": [
    "import sagemaker\n",
    "import boto3\n",
    "import pandas as pd\n",
    "from sagemaker import get_execution_role\n",
    "from sagemaker.amazon.amazon_estimator import get_image_uri\n",
    "import os\n",
    "from dotenv import load_dotenv\n",
    "\n",
    "# Load environment variables from .env file\n",
    "load_dotenv()\n",
    "\n",
    "# Initialize SageMaker session\n",
    "sagemaker_session = sagemaker.Session()\n",
    "\n",
    "# Manually specify the IAM role ARN for SageMaker\n",
    "role = os.getenv('AWS_ROLE_ARN')  # Update your .env file with the correct role ARN\n",
    "\n",
    "# S3 bucket where the dataset will be stored\n",
    "bucket = os.getenv('AWS_S3_BUCKET_NAME')  # Replace with your actual S3 bucket name\n",
    "prefix = 'sagemaker/gym-churn'  # Folder name where data will be stored\n",
    "\n",
    "# S3 client for data upload\n",
    "s3 = boto3.client('s3')\n",
    "\n",
    "print(f\"SageMaker session and role set up successfully with role: {role}\")"
   ],
   "outputs": [
    {
     "name": "stdout",
     "output_type": "stream",
     "text": [
      "SageMaker session and role set up successfully with role: arn:aws:iam::014077742481:role/service-role/AmazonSageMaker-ExecutionRole-20210612T122827\n"
     ]
    }
   ],
   "execution_count": 6
  },
  {
   "metadata": {
    "ExecuteTime": {
     "end_time": "2024-10-15T02:08:50.258831Z",
     "start_time": "2024-10-15T02:08:49.360445Z"
    }
   },
   "cell_type": "code",
   "source": [
    "# Load the dataset\n",
    "file_path = r'C:\\Users\\big_j\\PycharmProjects\\Customer-Churn-Prediction-using-AWS-SageMaker\\data\\gym_churn_us.csv'  # Path to your file\n",
    "\n",
    "# Upload the churn data to S3\n",
    "data_key = f'{prefix}/gym_churn_us.csv'\n",
    "s3.upload_file(file_path, bucket, data_key)\n",
    "print(f\"File uploaded to s3://{bucket}/{data_key}\")"
   ],
   "id": "93c3dbe7b9edc06f",
   "outputs": [
    {
     "name": "stdout",
     "output_type": "stream",
     "text": [
      "File uploaded to s3://my-gym-churn-bucket/sagemaker/gym-churn/gym_churn_us.csv\n"
     ]
    }
   ],
   "execution_count": 10
  },
  {
   "metadata": {
    "ExecuteTime": {
     "end_time": "2024-10-15T02:13:23.081039Z",
     "start_time": "2024-10-15T02:10:27.647690Z"
    }
   },
   "cell_type": "code",
   "source": [
    "# Define the XGBoost image for SageMaker\n",
    "container = get_image_uri(sagemaker_session.boto_region_name, 'xgboost')\n",
    "\n",
    "# Define the input data location in S3\n",
    "input_data = f's3://{bucket}/{data_key}'\n",
    "\n",
    "# Initialize XGBoost estimator\n",
    "xgb = sagemaker.estimator.Estimator(\n",
    "    container,\n",
    "    role,\n",
    "    instance_count=1,\n",
    "    instance_type='ml.m5.large',\n",
    "    output_path=f's3://{bucket}/{prefix}/output',\n",
    "    sagemaker_session=sagemaker_session\n",
    ")\n",
    "\n",
    "# Set XGBoost hyperparameters\n",
    "xgb.set_hyperparameters(\n",
    "    objective=\"binary:logistic\",\n",
    "    num_round=100,\n",
    "    max_depth=5,\n",
    "    eta=0.2,\n",
    "    gamma=4,\n",
    "    min_child_weight=6,\n",
    "    subsample=0.8,\n",
    "    silent=0\n",
    ")\n",
    "\n",
    "# Train the model using the input data\n",
    "train_input = sagemaker.inputs.TrainingInput(s3_data=input_data, content_type='csv')\n",
    "xgb.fit({'train': train_input})\n",
    "\n",
    "print(\"Training job completed.\")"
   ],
   "id": "f0741de402a4f391",
   "outputs": [
    {
     "name": "stderr",
     "output_type": "stream",
     "text": [
      "The method get_image_uri has been renamed in sagemaker>=2.\n",
      "See: https://sagemaker.readthedocs.io/en/stable/v2.html for details.\n",
      "INFO:sagemaker:Creating training-job with name: xgboost-2024-10-15-02-10-27-840\n"
     ]
    },
    {
     "name": "stdout",
     "output_type": "stream",
     "text": [
      "2024-10-15 02:10:31 Starting - Starting the training job...\n",
      "2024-10-15 02:10:45 Starting - Preparing the instances for training...\n",
      "2024-10-15 02:11:16 Downloading - Downloading input data...\n",
      "2024-10-15 02:12:01 Downloading - Downloading the training image.....\u001B[34mArguments: train\u001B[0m\n",
      "\u001B[34m[2024-10-15:02:12:45:INFO] Running standalone xgboost training.\u001B[0m\n",
      "\u001B[34m[2024-10-15:02:12:45:INFO] Path /opt/ml/input/data/validation does not exist!\u001B[0m\n",
      "\u001B[34m[2024-10-15:02:12:45:INFO] File size need to be processed in the node: 0.31mb. Available memory size in the node: 168.83mb\u001B[0m\n",
      "\u001B[34m[2024-10-15:02:12:46:INFO] Determined delimiter of CSV input is ','\u001B[0m\n",
      "\u001B[34m[02:12:45] S3DistributionType set as FullyReplicated\u001B[0m\n",
      "\u001B[34m[02:12:46] 4000x13 matrix with 52000 entries loaded from /opt/ml/input/data/train?format=csv&label_column=0&delimiter=,\u001B[0m\n",
      "\u001B[34m[02:12:46] src/tree/updater_prune.cc:74: tree pruning end, 1 roots, 16 extra nodes, 2 pruned nodes, max_depth=5\u001B[0m\n",
      "\u001B[34m[0]#011train-error:0.47525\u001B[0m\n",
      "\u001B[34m[02:12:46] src/tree/updater_prune.cc:74: tree pruning end, 1 roots, 28 extra nodes, 4 pruned nodes, max_depth=5\u001B[0m\n",
      "\u001B[34m[1]#011train-error:0.454\u001B[0m\n",
      "\u001B[34m[02:12:46] src/tree/updater_prune.cc:74: tree pruning end, 1 roots, 16 extra nodes, 12 pruned nodes, max_depth=5\u001B[0m\n",
      "\u001B[34m[2]#011train-error:0.4465\u001B[0m\n",
      "\u001B[34m[02:12:46] src/tree/updater_prune.cc:74: tree pruning end, 1 roots, 28 extra nodes, 14 pruned nodes, max_depth=5\u001B[0m\n",
      "\u001B[34m[3]#011train-error:0.4335\u001B[0m\n",
      "\u001B[34m[02:12:46] src/tree/updater_prune.cc:74: tree pruning end, 1 roots, 10 extra nodes, 4 pruned nodes, max_depth=4\u001B[0m\n",
      "\u001B[34m[4]#011train-error:0.43025\u001B[0m\n",
      "\u001B[34m[02:12:46] src/tree/updater_prune.cc:74: tree pruning end, 1 roots, 32 extra nodes, 12 pruned nodes, max_depth=5\u001B[0m\n",
      "\u001B[34m[5]#011train-error:0.417\u001B[0m\n",
      "\u001B[34m[02:12:46] src/tree/updater_prune.cc:74: tree pruning end, 1 roots, 16 extra nodes, 6 pruned nodes, max_depth=5\u001B[0m\n",
      "\u001B[34m[6]#011train-error:0.41\u001B[0m\n",
      "\u001B[34m[02:12:46] src/tree/updater_prune.cc:74: tree pruning end, 1 roots, 12 extra nodes, 10 pruned nodes, max_depth=5\u001B[0m\n",
      "\u001B[34m[7]#011train-error:0.41125\u001B[0m\n",
      "\u001B[34m[02:12:46] src/tree/updater_prune.cc:74: tree pruning end, 1 roots, 14 extra nodes, 10 pruned nodes, max_depth=5\u001B[0m\n",
      "\u001B[34m[8]#011train-error:0.4055\u001B[0m\n",
      "\u001B[34m[02:12:46] src/tree/updater_prune.cc:74: tree pruning end, 1 roots, 18 extra nodes, 4 pruned nodes, max_depth=5\u001B[0m\n",
      "\u001B[34m[9]#011train-error:0.399\u001B[0m\n",
      "\u001B[34m[02:12:46] src/tree/updater_prune.cc:74: tree pruning end, 1 roots, 18 extra nodes, 6 pruned nodes, max_depth=5\u001B[0m\n",
      "\u001B[34m[10]#011train-error:0.39125\u001B[0m\n",
      "\u001B[34m[02:12:46] src/tree/updater_prune.cc:74: tree pruning end, 1 roots, 14 extra nodes, 4 pruned nodes, max_depth=5\u001B[0m\n",
      "\u001B[34m[11]#011train-error:0.387\u001B[0m\n",
      "\u001B[34m[02:12:46] src/tree/updater_prune.cc:74: tree pruning end, 1 roots, 26 extra nodes, 4 pruned nodes, max_depth=5\u001B[0m\n",
      "\u001B[34m[12]#011train-error:0.38125\u001B[0m\n",
      "\u001B[34m[02:12:46] src/tree/updater_prune.cc:74: tree pruning end, 1 roots, 24 extra nodes, 8 pruned nodes, max_depth=5\u001B[0m\n",
      "\u001B[34m[13]#011train-error:0.374\u001B[0m\n",
      "\u001B[34m[02:12:46] src/tree/updater_prune.cc:74: tree pruning end, 1 roots, 22 extra nodes, 12 pruned nodes, max_depth=5\u001B[0m\n",
      "\u001B[34m[14]#011train-error:0.3715\u001B[0m\n",
      "\u001B[34m[02:12:46] src/tree/updater_prune.cc:74: tree pruning end, 1 roots, 20 extra nodes, 10 pruned nodes, max_depth=5\u001B[0m\n",
      "\u001B[34m[15]#011train-error:0.36475\u001B[0m\n",
      "\u001B[34m[02:12:46] src/tree/updater_prune.cc:74: tree pruning end, 1 roots, 10 extra nodes, 2 pruned nodes, max_depth=5\u001B[0m\n",
      "\u001B[34m[16]#011train-error:0.36625\u001B[0m\n",
      "\u001B[34m[02:12:46] src/tree/updater_prune.cc:74: tree pruning end, 1 roots, 16 extra nodes, 6 pruned nodes, max_depth=5\u001B[0m\n",
      "\u001B[34m[17]#011train-error:0.36825\u001B[0m\n",
      "\u001B[34m[02:12:46] src/tree/updater_prune.cc:74: tree pruning end, 1 roots, 30 extra nodes, 12 pruned nodes, max_depth=5\u001B[0m\n",
      "\u001B[34m[18]#011train-error:0.367\u001B[0m\n",
      "\u001B[34m[02:12:46] src/tree/updater_prune.cc:74: tree pruning end, 1 roots, 28 extra nodes, 14 pruned nodes, max_depth=5\u001B[0m\n",
      "\u001B[34m[19]#011train-error:0.3605\u001B[0m\n",
      "\u001B[34m[02:12:46] src/tree/updater_prune.cc:74: tree pruning end, 1 roots, 4 extra nodes, 12 pruned nodes, max_depth=2\u001B[0m\n",
      "\u001B[34m[20]#011train-error:0.36175\u001B[0m\n",
      "\u001B[34m[02:12:46] src/tree/updater_prune.cc:74: tree pruning end, 1 roots, 0 extra nodes, 14 pruned nodes, max_depth=0\u001B[0m\n",
      "\u001B[34m[21]#011train-error:0.36125\u001B[0m\n",
      "\u001B[34m[02:12:46] src/tree/updater_prune.cc:74: tree pruning end, 1 roots, 30 extra nodes, 16 pruned nodes, max_depth=5\u001B[0m\n",
      "\u001B[34m[22]#011train-error:0.3575\u001B[0m\n",
      "\u001B[34m[02:12:46] src/tree/updater_prune.cc:74: tree pruning end, 1 roots, 10 extra nodes, 16 pruned nodes, max_depth=4\u001B[0m\n",
      "\u001B[34m[23]#011train-error:0.3565\u001B[0m\n",
      "\u001B[34m[02:12:46] src/tree/updater_prune.cc:74: tree pruning end, 1 roots, 0 extra nodes, 18 pruned nodes, max_depth=0\u001B[0m\n",
      "\u001B[34m[24]#011train-error:0.35675\u001B[0m\n",
      "\u001B[34m[02:12:46] src/tree/updater_prune.cc:74: tree pruning end, 1 roots, 12 extra nodes, 6 pruned nodes, max_depth=5\u001B[0m\n",
      "\u001B[34m[25]#011train-error:0.35675\u001B[0m\n",
      "\u001B[34m[02:12:46] src/tree/updater_prune.cc:74: tree pruning end, 1 roots, 20 extra nodes, 8 pruned nodes, max_depth=5\u001B[0m\n",
      "\u001B[34m[26]#011train-error:0.34975\u001B[0m\n",
      "\u001B[34m[02:12:46] src/tree/updater_prune.cc:74: tree pruning end, 1 roots, 28 extra nodes, 12 pruned nodes, max_depth=5\u001B[0m\n",
      "\u001B[34m[27]#011train-error:0.344\u001B[0m\n",
      "\u001B[34m[02:12:46] src/tree/updater_prune.cc:74: tree pruning end, 1 roots, 10 extra nodes, 6 pruned nodes, max_depth=5\u001B[0m\n",
      "\u001B[34m[28]#011train-error:0.34025\u001B[0m\n",
      "\u001B[34m[02:12:46] src/tree/updater_prune.cc:74: tree pruning end, 1 roots, 0 extra nodes, 20 pruned nodes, max_depth=0\u001B[0m\n",
      "\u001B[34m[29]#011train-error:0.343\u001B[0m\n",
      "\u001B[34m[02:12:46] src/tree/updater_prune.cc:74: tree pruning end, 1 roots, 16 extra nodes, 20 pruned nodes, max_depth=5\u001B[0m\n",
      "\u001B[34m[30]#011train-error:0.34075\u001B[0m\n",
      "\u001B[34m[02:12:46] src/tree/updater_prune.cc:74: tree pruning end, 1 roots, 16 extra nodes, 4 pruned nodes, max_depth=5\u001B[0m\n",
      "\u001B[34m[31]#011train-error:0.333\u001B[0m\n",
      "\u001B[34m[02:12:46] src/tree/updater_prune.cc:74: tree pruning end, 1 roots, 14 extra nodes, 18 pruned nodes, max_depth=5\u001B[0m\n",
      "\u001B[34m[32]#011train-error:0.333\u001B[0m\n",
      "\u001B[34m[02:12:46] src/tree/updater_prune.cc:74: tree pruning end, 1 roots, 24 extra nodes, 16 pruned nodes, max_depth=5\u001B[0m\n",
      "\u001B[34m[33]#011train-error:0.32675\u001B[0m\n",
      "\u001B[34m[02:12:46] src/tree/updater_prune.cc:74: tree pruning end, 1 roots, 30 extra nodes, 8 pruned nodes, max_depth=5\u001B[0m\n",
      "\u001B[34m[34]#011train-error:0.32\u001B[0m\n",
      "\u001B[34m[02:12:46] src/tree/updater_prune.cc:74: tree pruning end, 1 roots, 32 extra nodes, 12 pruned nodes, max_depth=5\u001B[0m\n",
      "\u001B[34m[35]#011train-error:0.31675\u001B[0m\n",
      "\u001B[34m[02:12:46] src/tree/updater_prune.cc:74: tree pruning end, 1 roots, 22 extra nodes, 22 pruned nodes, max_depth=5\u001B[0m\n",
      "\u001B[34m[36]#011train-error:0.313\u001B[0m\n",
      "\u001B[34m[02:12:46] src/tree/updater_prune.cc:74: tree pruning end, 1 roots, 20 extra nodes, 2 pruned nodes, max_depth=5\u001B[0m\n",
      "\u001B[34m[37]#011train-error:0.30975\u001B[0m\n",
      "\u001B[34m[02:12:46] src/tree/updater_prune.cc:74: tree pruning end, 1 roots, 12 extra nodes, 18 pruned nodes, max_depth=5\u001B[0m\n",
      "\u001B[34m[38]#011train-error:0.306\u001B[0m\n",
      "\u001B[34m[02:12:46] src/tree/updater_prune.cc:74: tree pruning end, 1 roots, 22 extra nodes, 10 pruned nodes, max_depth=5\u001B[0m\n",
      "\u001B[34m[39]#011train-error:0.3045\u001B[0m\n",
      "\u001B[34m[02:12:46] src/tree/updater_prune.cc:74: tree pruning end, 1 roots, 8 extra nodes, 30 pruned nodes, max_depth=4\u001B[0m\n",
      "\u001B[34m[40]#011train-error:0.30575\u001B[0m\n",
      "\u001B[34m[02:12:46] src/tree/updater_prune.cc:74: tree pruning end, 1 roots, 22 extra nodes, 16 pruned nodes, max_depth=5\u001B[0m\n",
      "\u001B[34m[41]#011train-error:0.301\u001B[0m\n",
      "\u001B[34m[02:12:46] src/tree/updater_prune.cc:74: tree pruning end, 1 roots, 18 extra nodes, 8 pruned nodes, max_depth=5\u001B[0m\n",
      "\u001B[34m[42]#011train-error:0.30125\u001B[0m\n",
      "\u001B[34m[02:12:46] src/tree/updater_prune.cc:74: tree pruning end, 1 roots, 10 extra nodes, 14 pruned nodes, max_depth=4\u001B[0m\n",
      "\u001B[34m[43]#011train-error:0.301\u001B[0m\n",
      "\u001B[34m[02:12:46] src/tree/updater_prune.cc:74: tree pruning end, 1 roots, 16 extra nodes, 10 pruned nodes, max_depth=4\u001B[0m\n",
      "\u001B[34m[44]#011train-error:0.3\u001B[0m\n",
      "\u001B[34m[02:12:46] src/tree/updater_prune.cc:74: tree pruning end, 1 roots, 10 extra nodes, 28 pruned nodes, max_depth=4\u001B[0m\n",
      "\u001B[34m[45]#011train-error:0.29825\u001B[0m\n",
      "\u001B[34m[02:12:46] src/tree/updater_prune.cc:74: tree pruning end, 1 roots, 18 extra nodes, 22 pruned nodes, max_depth=5\u001B[0m\n",
      "\u001B[34m[46]#011train-error:0.3005\u001B[0m\n",
      "\u001B[34m[02:12:46] src/tree/updater_prune.cc:74: tree pruning end, 1 roots, 10 extra nodes, 6 pruned nodes, max_depth=5\u001B[0m\n",
      "\u001B[34m[47]#011train-error:0.3015\u001B[0m\n",
      "\u001B[34m[02:12:46] src/tree/updater_prune.cc:74: tree pruning end, 1 roots, 16 extra nodes, 12 pruned nodes, max_depth=5\u001B[0m\n",
      "\u001B[34m[48]#011train-error:0.299\u001B[0m\n",
      "\u001B[34m[02:12:46] src/tree/updater_prune.cc:74: tree pruning end, 1 roots, 12 extra nodes, 16 pruned nodes, max_depth=5\u001B[0m\n",
      "\u001B[34m[49]#011train-error:0.299\u001B[0m\n",
      "\u001B[34m[02:12:46] src/tree/updater_prune.cc:74: tree pruning end, 1 roots, 12 extra nodes, 16 pruned nodes, max_depth=5\u001B[0m\n",
      "\u001B[34m[50]#011train-error:0.296\u001B[0m\n",
      "\u001B[34m[02:12:46] src/tree/updater_prune.cc:74: tree pruning end, 1 roots, 24 extra nodes, 6 pruned nodes, max_depth=5\u001B[0m\n",
      "\u001B[34m[51]#011train-error:0.292\u001B[0m\n",
      "\u001B[34m[02:12:46] src/tree/updater_prune.cc:74: tree pruning end, 1 roots, 14 extra nodes, 10 pruned nodes, max_depth=5\u001B[0m\n",
      "\u001B[34m[52]#011train-error:0.292\u001B[0m\n",
      "\u001B[34m[02:12:46] src/tree/updater_prune.cc:74: tree pruning end, 1 roots, 6 extra nodes, 20 pruned nodes, max_depth=3\u001B[0m\n",
      "\u001B[34m[53]#011train-error:0.28825\u001B[0m\n",
      "\u001B[34m[02:12:46] src/tree/updater_prune.cc:74: tree pruning end, 1 roots, 24 extra nodes, 14 pruned nodes, max_depth=5\u001B[0m\n",
      "\u001B[34m[54]#011train-error:0.28625\u001B[0m\n",
      "\u001B[34m[02:12:46] src/tree/updater_prune.cc:74: tree pruning end, 1 roots, 30 extra nodes, 2 pruned nodes, max_depth=5\u001B[0m\n",
      "\u001B[34m[55]#011train-error:0.28275\u001B[0m\n",
      "\u001B[34m[02:12:46] src/tree/updater_prune.cc:74: tree pruning end, 1 roots, 14 extra nodes, 14 pruned nodes, max_depth=4\u001B[0m\n",
      "\u001B[34m[56]#011train-error:0.2815\u001B[0m\n",
      "\u001B[34m[02:12:46] src/tree/updater_prune.cc:74: tree pruning end, 1 roots, 20 extra nodes, 14 pruned nodes, max_depth=5\u001B[0m\n",
      "\u001B[34m[57]#011train-error:0.28125\u001B[0m\n",
      "\u001B[34m[02:12:46] src/tree/updater_prune.cc:74: tree pruning end, 1 roots, 16 extra nodes, 20 pruned nodes, max_depth=4\u001B[0m\n",
      "\u001B[34m[58]#011train-error:0.28025\u001B[0m\n",
      "\u001B[34m[02:12:46] src/tree/updater_prune.cc:74: tree pruning end, 1 roots, 10 extra nodes, 18 pruned nodes, max_depth=5\u001B[0m\n",
      "\u001B[34m[59]#011train-error:0.2815\u001B[0m\n",
      "\u001B[34m[02:12:46] src/tree/updater_prune.cc:74: tree pruning end, 1 roots, 0 extra nodes, 18 pruned nodes, max_depth=0\u001B[0m\n",
      "\u001B[34m[60]#011train-error:0.28\u001B[0m\n",
      "\u001B[34m[02:12:46] src/tree/updater_prune.cc:74: tree pruning end, 1 roots, 0 extra nodes, 10 pruned nodes, max_depth=0\u001B[0m\n",
      "\u001B[34m[61]#011train-error:0.28\u001B[0m\n",
      "\u001B[34m[02:12:46] src/tree/updater_prune.cc:74: tree pruning end, 1 roots, 22 extra nodes, 6 pruned nodes, max_depth=5\u001B[0m\n",
      "\u001B[34m[62]#011train-error:0.28175\u001B[0m\n",
      "\u001B[34m[02:12:46] src/tree/updater_prune.cc:74: tree pruning end, 1 roots, 6 extra nodes, 14 pruned nodes, max_depth=3\u001B[0m\n",
      "\u001B[34m[63]#011train-error:0.2805\u001B[0m\n",
      "\u001B[34m[02:12:46] src/tree/updater_prune.cc:74: tree pruning end, 1 roots, 6 extra nodes, 16 pruned nodes, max_depth=3\u001B[0m\n",
      "\u001B[34m[64]#011train-error:0.28\u001B[0m\n",
      "\u001B[34m[02:12:46] src/tree/updater_prune.cc:74: tree pruning end, 1 roots, 16 extra nodes, 18 pruned nodes, max_depth=5\u001B[0m\n",
      "\u001B[34m[65]#011train-error:0.27925\u001B[0m\n",
      "\u001B[34m[02:12:46] src/tree/updater_prune.cc:74: tree pruning end, 1 roots, 18 extra nodes, 16 pruned nodes, max_depth=5\u001B[0m\n",
      "\u001B[34m[66]#011train-error:0.2745\u001B[0m\n",
      "\u001B[34m[02:12:46] src/tree/updater_prune.cc:74: tree pruning end, 1 roots, 26 extra nodes, 30 pruned nodes, max_depth=5\u001B[0m\n",
      "\u001B[34m[67]#011train-error:0.271\u001B[0m\n",
      "\u001B[34m[02:12:46] src/tree/updater_prune.cc:74: tree pruning end, 1 roots, 18 extra nodes, 12 pruned nodes, max_depth=5\u001B[0m\n",
      "\u001B[34m[68]#011train-error:0.2715\u001B[0m\n",
      "\u001B[34m[02:12:46] src/tree/updater_prune.cc:74: tree pruning end, 1 roots, 14 extra nodes, 20 pruned nodes, max_depth=5\u001B[0m\n",
      "\u001B[34m[69]#011train-error:0.27\u001B[0m\n",
      "\u001B[34m[02:12:46] src/tree/updater_prune.cc:74: tree pruning end, 1 roots, 12 extra nodes, 20 pruned nodes, max_depth=5\u001B[0m\n",
      "\u001B[34m[70]#011train-error:0.2705\u001B[0m\n",
      "\u001B[34m[02:12:46] src/tree/updater_prune.cc:74: tree pruning end, 1 roots, 0 extra nodes, 22 pruned nodes, max_depth=0\u001B[0m\n",
      "\u001B[34m[71]#011train-error:0.2685\u001B[0m\n",
      "\u001B[34m[02:12:46] src/tree/updater_prune.cc:74: tree pruning end, 1 roots, 14 extra nodes, 14 pruned nodes, max_depth=5\u001B[0m\n",
      "\u001B[34m[72]#011train-error:0.26825\u001B[0m\n",
      "\u001B[34m[02:12:46] src/tree/updater_prune.cc:74: tree pruning end, 1 roots, 6 extra nodes, 26 pruned nodes, max_depth=3\u001B[0m\n",
      "\u001B[34m[73]#011train-error:0.26625\u001B[0m\n",
      "\u001B[34m[02:12:46] src/tree/updater_prune.cc:74: tree pruning end, 1 roots, 10 extra nodes, 14 pruned nodes, max_depth=5\u001B[0m\n",
      "\u001B[34m[74]#011train-error:0.268\u001B[0m\n",
      "\u001B[34m[02:12:46] src/tree/updater_prune.cc:74: tree pruning end, 1 roots, 10 extra nodes, 22 pruned nodes, max_depth=5\u001B[0m\n",
      "\u001B[34m[75]#011train-error:0.268\u001B[0m\n",
      "\u001B[34m[02:12:46] src/tree/updater_prune.cc:74: tree pruning end, 1 roots, 8 extra nodes, 14 pruned nodes, max_depth=4\u001B[0m\n",
      "\u001B[34m[76]#011train-error:0.266\u001B[0m\n",
      "\u001B[34m[02:12:46] src/tree/updater_prune.cc:74: tree pruning end, 1 roots, 10 extra nodes, 18 pruned nodes, max_depth=5\u001B[0m\n",
      "\u001B[34m[77]#011train-error:0.2675\u001B[0m\n",
      "\u001B[34m[02:12:46] src/tree/updater_prune.cc:74: tree pruning end, 1 roots, 12 extra nodes, 20 pruned nodes, max_depth=5\u001B[0m\n",
      "\u001B[34m[78]#011train-error:0.26475\u001B[0m\n",
      "\u001B[34m[02:12:46] src/tree/updater_prune.cc:74: tree pruning end, 1 roots, 24 extra nodes, 24 pruned nodes, max_depth=5\u001B[0m\n",
      "\u001B[34m[79]#011train-error:0.2605\u001B[0m\n",
      "\u001B[34m[02:12:46] src/tree/updater_prune.cc:74: tree pruning end, 1 roots, 16 extra nodes, 20 pruned nodes, max_depth=5\u001B[0m\n",
      "\u001B[34m[80]#011train-error:0.2605\u001B[0m\n",
      "\u001B[34m[02:12:46] src/tree/updater_prune.cc:74: tree pruning end, 1 roots, 12 extra nodes, 16 pruned nodes, max_depth=5\u001B[0m\n",
      "\u001B[34m[81]#011train-error:0.257\u001B[0m\n",
      "\u001B[34m[02:12:46] src/tree/updater_prune.cc:74: tree pruning end, 1 roots, 18 extra nodes, 18 pruned nodes, max_depth=4\u001B[0m\n",
      "\u001B[34m[82]#011train-error:0.25525\u001B[0m\n",
      "\u001B[34m[02:12:46] src/tree/updater_prune.cc:74: tree pruning end, 1 roots, 16 extra nodes, 28 pruned nodes, max_depth=5\u001B[0m\n",
      "\u001B[34m[83]#011train-error:0.253\u001B[0m\n",
      "\u001B[34m[02:12:46] src/tree/updater_prune.cc:74: tree pruning end, 1 roots, 6 extra nodes, 10 pruned nodes, max_depth=3\u001B[0m\n",
      "\u001B[34m[84]#011train-error:0.2535\u001B[0m\n",
      "\u001B[34m[02:12:46] src/tree/updater_prune.cc:74: tree pruning end, 1 roots, 16 extra nodes, 10 pruned nodes, max_depth=5\u001B[0m\n",
      "\u001B[34m[85]#011train-error:0.254\u001B[0m\n",
      "\u001B[34m[02:12:46] src/tree/updater_prune.cc:74: tree pruning end, 1 roots, 0 extra nodes, 26 pruned nodes, max_depth=0\u001B[0m\n",
      "\u001B[34m[86]#011train-error:0.25425\u001B[0m\n",
      "\u001B[34m[02:12:46] src/tree/updater_prune.cc:74: tree pruning end, 1 roots, 10 extra nodes, 22 pruned nodes, max_depth=5\u001B[0m\n",
      "\u001B[34m[87]#011train-error:0.253\u001B[0m\n",
      "\u001B[34m[02:12:46] src/tree/updater_prune.cc:74: tree pruning end, 1 roots, 18 extra nodes, 18 pruned nodes, max_depth=5\u001B[0m\n",
      "\u001B[34m[88]#011train-error:0.25075\u001B[0m\n",
      "\u001B[34m[02:12:46] src/tree/updater_prune.cc:74: tree pruning end, 1 roots, 0 extra nodes, 20 pruned nodes, max_depth=0\u001B[0m\n",
      "\u001B[34m[89]#011train-error:0.251\u001B[0m\n",
      "\u001B[34m[02:12:46] src/tree/updater_prune.cc:74: tree pruning end, 1 roots, 8 extra nodes, 16 pruned nodes, max_depth=4\u001B[0m\n",
      "\u001B[34m[90]#011train-error:0.25225\u001B[0m\n",
      "\u001B[34m[02:12:46] src/tree/updater_prune.cc:74: tree pruning end, 1 roots, 14 extra nodes, 18 pruned nodes, max_depth=5\u001B[0m\n",
      "\u001B[34m[91]#011train-error:0.24875\u001B[0m\n",
      "\u001B[34m[02:12:46] src/tree/updater_prune.cc:74: tree pruning end, 1 roots, 0 extra nodes, 18 pruned nodes, max_depth=0\u001B[0m\n",
      "\u001B[34m[92]#011train-error:0.248\u001B[0m\n",
      "\u001B[34m[02:12:46] src/tree/updater_prune.cc:74: tree pruning end, 1 roots, 10 extra nodes, 8 pruned nodes, max_depth=5\u001B[0m\n",
      "\u001B[34m[93]#011train-error:0.24825\u001B[0m\n",
      "\u001B[34m[02:12:46] src/tree/updater_prune.cc:74: tree pruning end, 1 roots, 0 extra nodes, 36 pruned nodes, max_depth=0\u001B[0m\n",
      "\u001B[34m[94]#011train-error:0.24825\u001B[0m\n",
      "\u001B[34m[02:12:46] src/tree/updater_prune.cc:74: tree pruning end, 1 roots, 14 extra nodes, 20 pruned nodes, max_depth=4\u001B[0m\n",
      "\u001B[34m[95]#011train-error:0.24975\u001B[0m\n",
      "\u001B[34m[02:12:46] src/tree/updater_prune.cc:74: tree pruning end, 1 roots, 14 extra nodes, 16 pruned nodes, max_depth=5\u001B[0m\n",
      "\u001B[34m[96]#011train-error:0.249\u001B[0m\n",
      "\u001B[34m[02:12:46] src/tree/updater_prune.cc:74: tree pruning end, 1 roots, 4 extra nodes, 20 pruned nodes, max_depth=2\u001B[0m\n",
      "\u001B[34m[97]#011train-error:0.2495\u001B[0m\n",
      "\u001B[34m[02:12:46] src/tree/updater_prune.cc:74: tree pruning end, 1 roots, 16 extra nodes, 6 pruned nodes, max_depth=5\u001B[0m\n",
      "\u001B[34m[98]#011train-error:0.24775\u001B[0m\n",
      "\u001B[34m[02:12:46] src/tree/updater_prune.cc:74: tree pruning end, 1 roots, 8 extra nodes, 20 pruned nodes, max_depth=4\u001B[0m\n",
      "\u001B[34m[99]#011train-error:0.24725\u001B[0m\n",
      "\n",
      "2024-10-15 02:13:06 Training - Training image download completed. Training in progress.\n",
      "2024-10-15 02:13:06 Uploading - Uploading generated training model\n",
      "2024-10-15 02:13:06 Completed - Training job completed\n",
      "Training seconds: 109\n",
      "Billable seconds: 109\n",
      "Training job completed.\n"
     ]
    }
   ],
   "execution_count": 11
  },
  {
   "metadata": {
    "ExecuteTime": {
     "end_time": "2024-10-15T02:16:55.455952Z",
     "start_time": "2024-10-15T02:13:23.159287Z"
    }
   },
   "cell_type": "code",
   "source": [
    "# Deploy the model to an endpoint\n",
    "xgb_predictor = xgb.deploy(\n",
    "    initial_instance_count=1,\n",
    "    instance_type='ml.m5.large'\n",
    ")\n",
    "\n",
    "print(f\"Model deployed to endpoint: {xgb_predictor.endpoint_name}\")"
   ],
   "id": "566acad740cdad7c",
   "outputs": [
    {
     "name": "stderr",
     "output_type": "stream",
     "text": [
      "INFO:sagemaker:Creating model with name: xgboost-2024-10-15-02-13-23-163\n",
      "INFO:sagemaker:Creating endpoint-config with name xgboost-2024-10-15-02-13-23-163\n",
      "INFO:sagemaker:Creating endpoint with name xgboost-2024-10-15-02-13-23-163\n"
     ]
    },
    {
     "name": "stdout",
     "output_type": "stream",
     "text": [
      "------!Model deployed to endpoint: xgboost-2024-10-15-02-13-23-163\n"
     ]
    }
   ],
   "execution_count": 12
  },
  {
   "metadata": {
    "ExecuteTime": {
     "end_time": "2024-10-15T02:17:10.759658Z",
     "start_time": "2024-10-15T02:17:09.668204Z"
    }
   },
   "cell_type": "code",
   "source": [
    "# Test data (make sure to match the number of features)\n",
    "test_data = '0.2,0.1,0.4,0.5,0.6,0.7,0.8,0.3,0.9,0.5,0.4,0.2,0.1'\n",
    "\n",
    "# Perform prediction and set content type as CSV\n",
    "prediction = xgb_predictor.predict(test_data, initial_args={'ContentType': 'text/csv'})\n",
    "print(f\"Predicted class: {prediction}\")"
   ],
   "id": "56d1d4959a909ee3",
   "outputs": [
    {
     "name": "stdout",
     "output_type": "stream",
     "text": [
      "Predicted class: b'0.5225263237953186'\n"
     ]
    }
   ],
   "execution_count": 13
  },
  {
   "metadata": {
    "ExecuteTime": {
     "end_time": "2024-10-15T02:18:01.654809Z",
     "start_time": "2024-10-15T02:18:00.293225Z"
    }
   },
   "cell_type": "code",
   "source": [
    "# Delete the endpoint to save cost\n",
    "xgb_predictor.delete_endpoint()\n",
    "\n",
    "print(\"Endpoint deleted.\")"
   ],
   "id": "95dd6b3837a6ac5b",
   "outputs": [
    {
     "name": "stderr",
     "output_type": "stream",
     "text": [
      "INFO:sagemaker:Deleting endpoint configuration with name: xgboost-2024-10-15-02-13-23-163\n",
      "INFO:sagemaker:Deleting endpoint with name: xgboost-2024-10-15-02-13-23-163\n"
     ]
    },
    {
     "name": "stdout",
     "output_type": "stream",
     "text": [
      "Endpoint deleted.\n"
     ]
    }
   ],
   "execution_count": 14
  }
 ],
 "metadata": {
  "kernelspec": {
   "display_name": "Python 3",
   "language": "python",
   "name": "python3"
  },
  "language_info": {
   "codemirror_mode": {
    "name": "ipython",
    "version": 2
   },
   "file_extension": ".py",
   "mimetype": "text/x-python",
   "name": "python",
   "nbconvert_exporter": "python",
   "pygments_lexer": "ipython2",
   "version": "2.7.6"
  }
 },
 "nbformat": 4,
 "nbformat_minor": 5
}
